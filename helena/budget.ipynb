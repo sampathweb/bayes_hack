{
 "metadata": {
  "name": "",
  "signature": "sha256:2706ebe425537ca672748e2898a0cc83be485971dfea64e0efb8135c63b81552"
 },
 "nbformat": 3,
 "nbformat_minor": 0,
 "worksheets": [
  {
   "cells": [
    {
     "cell_type": "code",
     "collapsed": false,
     "input": [
      "import pandas as pd\n",
      "import numpy as np\n",
      "import matplotlib.pyplot as plt\n",
      "import seaborn as sns\n",
      "import pymysql as mdb"
     ],
     "language": "python",
     "metadata": {},
     "outputs": [],
     "prompt_number": 1
    },
    {
     "cell_type": "code",
     "collapsed": false,
     "input": [
      "con = mdb.connect('bayesimpact.soumet.com', 'root', 'bayeshack', 'bayes')"
     ],
     "language": "python",
     "metadata": {},
     "outputs": [],
     "prompt_number": 131
    },
    {
     "cell_type": "code",
     "collapsed": false,
     "input": [
      "with con:\n",
      "    cur = con.cursor(mdb.cursors.DictCursor)\n",
      "    cmd = 'SELECT STATE, NAME, NCESID, SCHLEV, YRDATA, TOTALREV \\\n",
      "           FROM census_data_elsec'\n",
      "    cur.execute(cmd)\n",
      "    budget = cur.fetchall()\n",
      "budget = pd.DataFrame(budget)\n",
      "budget.head()"
     ],
     "language": "python",
     "metadata": {},
     "outputs": [
      {
       "html": [
        "<div style=\"max-height:1000px;max-width:1500px;overflow:auto;\">\n",
        "<table border=\"1\" class=\"dataframe\">\n",
        "  <thead>\n",
        "    <tr style=\"text-align: right;\">\n",
        "      <th></th>\n",
        "      <th>NAME</th>\n",
        "      <th>NCESID</th>\n",
        "      <th>SCHLEV</th>\n",
        "      <th>STATE</th>\n",
        "      <th>TOTALREV</th>\n",
        "      <th>YRDATA</th>\n",
        "    </tr>\n",
        "  </thead>\n",
        "  <tbody>\n",
        "    <tr>\n",
        "      <th>0</th>\n",
        "      <td>  AUTAUGA CO SCH DIST</td>\n",
        "      <td> 0100240</td>\n",
        "      <td> 03</td>\n",
        "      <td> 01</td>\n",
        "      <td>  72861.00</td>\n",
        "      <td> 07</td>\n",
        "    </tr>\n",
        "    <tr>\n",
        "      <th>1</th>\n",
        "      <td>  BALDWIN CO SCH DIST</td>\n",
        "      <td> 0100270</td>\n",
        "      <td> 03</td>\n",
        "      <td> 01</td>\n",
        "      <td> 272334.00</td>\n",
        "      <td> 07</td>\n",
        "    </tr>\n",
        "    <tr>\n",
        "      <th>2</th>\n",
        "      <td>  BARBOUR CO SCH DIST</td>\n",
        "      <td> 0100300</td>\n",
        "      <td> 03</td>\n",
        "      <td> 01</td>\n",
        "      <td>  11427.00</td>\n",
        "      <td> 07</td>\n",
        "    </tr>\n",
        "    <tr>\n",
        "      <th>3</th>\n",
        "      <td> EUFAULA CTY SCH DIST</td>\n",
        "      <td> 0101410</td>\n",
        "      <td> 03</td>\n",
        "      <td> 01</td>\n",
        "      <td>  24423.00</td>\n",
        "      <td> 07</td>\n",
        "    </tr>\n",
        "    <tr>\n",
        "      <th>4</th>\n",
        "      <td>     BIBB CO SCH DIST</td>\n",
        "      <td> 0100360</td>\n",
        "      <td> 03</td>\n",
        "      <td> 01</td>\n",
        "      <td>  30744.00</td>\n",
        "      <td> 07</td>\n",
        "    </tr>\n",
        "  </tbody>\n",
        "</table>\n",
        "</div>"
       ],
       "metadata": {},
       "output_type": "pyout",
       "prompt_number": 132,
       "text": [
        "                   NAME   NCESID SCHLEV STATE   TOTALREV YRDATA\n",
        "0   AUTAUGA CO SCH DIST  0100240     03    01   72861.00     07\n",
        "1   BALDWIN CO SCH DIST  0100270     03    01  272334.00     07\n",
        "2   BARBOUR CO SCH DIST  0100300     03    01   11427.00     07\n",
        "3  EUFAULA CTY SCH DIST  0101410     03    01   24423.00     07\n",
        "4      BIBB CO SCH DIST  0100360     03    01   30744.00     07"
       ]
      }
     ],
     "prompt_number": 132
    },
    {
     "cell_type": "code",
     "collapsed": false,
     "input": [
      "set(budget.YRDATA)"
     ],
     "language": "python",
     "metadata": {},
     "outputs": [
      {
       "metadata": {},
       "output_type": "pyout",
       "prompt_number": 71,
       "text": [
        "{'07', '08', '09', '10'}"
       ]
      }
     ],
     "prompt_number": 71
    },
    {
     "cell_type": "code",
     "collapsed": false,
     "input": [
      "budget['TOTALREV'] = budget['TOTALREV'].astype(float)\n",
      "budget_ca = budget[budget.STATE == '05']"
     ],
     "language": "python",
     "metadata": {},
     "outputs": [],
     "prompt_number": 25
    },
    {
     "cell_type": "code",
     "collapsed": false,
     "input": [
      "budget_ca.head()"
     ],
     "language": "python",
     "metadata": {},
     "outputs": [
      {
       "html": [
        "<div style=\"max-height:1000px;max-width:1500px;overflow:auto;\">\n",
        "<table border=\"1\" class=\"dataframe\">\n",
        "  <thead>\n",
        "    <tr style=\"text-align: right;\">\n",
        "      <th></th>\n",
        "      <th>NAME</th>\n",
        "      <th>NCESID</th>\n",
        "      <th>SCHLEV</th>\n",
        "      <th>STATE</th>\n",
        "      <th>TOTALREV</th>\n",
        "      <th>YRDATA</th>\n",
        "    </tr>\n",
        "  </thead>\n",
        "  <tbody>\n",
        "    <tr>\n",
        "      <th>680</th>\n",
        "      <td>               ALAMEDA CO OFFICE OF ED</td>\n",
        "      <td> 0691051</td>\n",
        "      <td> 05</td>\n",
        "      <td> 05</td>\n",
        "      <td> 56050</td>\n",
        "      <td> 07</td>\n",
        "    </tr>\n",
        "    <tr>\n",
        "      <th>681</th>\n",
        "      <td>         ALPINE COUNTY SPECIAL SCHOOLS</td>\n",
        "      <td> 0691058</td>\n",
        "      <td> 05</td>\n",
        "      <td> 05</td>\n",
        "      <td>  2036</td>\n",
        "      <td> 07</td>\n",
        "    </tr>\n",
        "    <tr>\n",
        "      <th>682</th>\n",
        "      <td>    AMADOR CO SPL SCHS OPER BY CO SUPT</td>\n",
        "      <td> 0691001</td>\n",
        "      <td> 05</td>\n",
        "      <td> 05</td>\n",
        "      <td>  9682</td>\n",
        "      <td> 07</td>\n",
        "    </tr>\n",
        "    <tr>\n",
        "      <th>683</th>\n",
        "      <td>     BUTTE CO SPL SCHS OPER BY CO SUPT</td>\n",
        "      <td> 0691002</td>\n",
        "      <td> 05</td>\n",
        "      <td> 05</td>\n",
        "      <td> 75292</td>\n",
        "      <td> 07</td>\n",
        "    </tr>\n",
        "    <tr>\n",
        "      <th>684</th>\n",
        "      <td> CALAVERAS CO SPL SCHS OPER BY CO SUPT</td>\n",
        "      <td> 0691003</td>\n",
        "      <td> 05</td>\n",
        "      <td> 05</td>\n",
        "      <td> 27596</td>\n",
        "      <td> 07</td>\n",
        "    </tr>\n",
        "  </tbody>\n",
        "</table>\n",
        "</div>"
       ],
       "metadata": {},
       "output_type": "pyout",
       "prompt_number": 135,
       "text": [
        "                                      NAME   NCESID SCHLEV STATE  TOTALREV  \\\n",
        "680                ALAMEDA CO OFFICE OF ED  0691051     05    05     56050   \n",
        "681          ALPINE COUNTY SPECIAL SCHOOLS  0691058     05    05      2036   \n",
        "682     AMADOR CO SPL SCHS OPER BY CO SUPT  0691001     05    05      9682   \n",
        "683      BUTTE CO SPL SCHS OPER BY CO SUPT  0691002     05    05     75292   \n",
        "684  CALAVERAS CO SPL SCHS OPER BY CO SUPT  0691003     05    05     27596   \n",
        "\n",
        "    YRDATA  \n",
        "680     07  \n",
        "681     07  \n",
        "682     07  \n",
        "683     07  \n",
        "684     07  "
       ]
      }
     ],
     "prompt_number": 135
    },
    {
     "cell_type": "code",
     "collapsed": false,
     "input": [
      "budget_ca.groupby('YRDATA')['TOTALREV'].median()"
     ],
     "language": "python",
     "metadata": {},
     "outputs": [
      {
       "metadata": {},
       "output_type": "pyout",
       "prompt_number": 26,
       "text": [
        "YRDATA\n",
        "07        17875\n",
        "08        17991\n",
        "09        17739\n",
        "10        16668\n",
        "Name: TOTALREV, dtype: float64"
       ]
      }
     ],
     "prompt_number": 26
    },
    {
     "cell_type": "code",
     "collapsed": false,
     "input": [
      "budget_rev = budget_ca.pivot_table(index='NCESID', columns='YRDATA', values='TOTALREV',aggfunc='median')\n",
      "budget_rev.head()"
     ],
     "language": "python",
     "metadata": {},
     "outputs": [
      {
       "html": [
        "<div style=\"max-height:1000px;max-width:1500px;overflow:auto;\">\n",
        "<table border=\"1\" class=\"dataframe\">\n",
        "  <thead>\n",
        "    <tr style=\"text-align: right;\">\n",
        "      <th>YRDATA</th>\n",
        "      <th>07</th>\n",
        "      <th>08</th>\n",
        "      <th>09</th>\n",
        "      <th>10</th>\n",
        "    </tr>\n",
        "    <tr>\n",
        "      <th>NCESID</th>\n",
        "      <th></th>\n",
        "      <th></th>\n",
        "      <th></th>\n",
        "      <th></th>\n",
        "    </tr>\n",
        "  </thead>\n",
        "  <tbody>\n",
        "    <tr>\n",
        "      <th>0600001</th>\n",
        "      <td> 15083</td>\n",
        "      <td> 15244</td>\n",
        "      <td> 15501</td>\n",
        "      <td> 13493</td>\n",
        "    </tr>\n",
        "    <tr>\n",
        "      <th>0600006</th>\n",
        "      <td> 18603</td>\n",
        "      <td> 19417</td>\n",
        "      <td> 26203</td>\n",
        "      <td> 24322</td>\n",
        "    </tr>\n",
        "    <tr>\n",
        "      <th>0600009</th>\n",
        "      <td>  4136</td>\n",
        "      <td>  3607</td>\n",
        "      <td>  3552</td>\n",
        "      <td>  3052</td>\n",
        "    </tr>\n",
        "    <tr>\n",
        "      <th>0600011</th>\n",
        "      <td>  3192</td>\n",
        "      <td>  3155</td>\n",
        "      <td>  3171</td>\n",
        "      <td>  2827</td>\n",
        "    </tr>\n",
        "    <tr>\n",
        "      <th>0600012</th>\n",
        "      <td> 19103</td>\n",
        "      <td>  4265</td>\n",
        "      <td>  5695</td>\n",
        "      <td>  2172</td>\n",
        "    </tr>\n",
        "  </tbody>\n",
        "</table>\n",
        "</div>"
       ],
       "metadata": {},
       "output_type": "pyout",
       "prompt_number": 49,
       "text": [
        "YRDATA      07     08     09     10\n",
        "NCESID                             \n",
        "0600001  15083  15244  15501  13493\n",
        "0600006  18603  19417  26203  24322\n",
        "0600009   4136   3607   3552   3052\n",
        "0600011   3192   3155   3171   2827\n",
        "0600012  19103   4265   5695   2172"
       ]
      }
     ],
     "prompt_number": 49
    },
    {
     "cell_type": "code",
     "collapsed": false,
     "input": [
      "budget_rev['08_delta'] = (budget_rev['08'] - budget_rev['07'])/ budget_rev['07']\n",
      "budget_rev['09_delta'] = (budget_rev['09'] - budget_rev['08'])/ budget_rev['08']\n",
      "budget_rev['10_delta'] = (budget_rev['10'] - budget_rev['09'])/ budget_rev['09']"
     ],
     "language": "python",
     "metadata": {},
     "outputs": [],
     "prompt_number": 52
    },
    {
     "cell_type": "code",
     "collapsed": false,
     "input": [
      "budget_rev['10_delta'].sort(inplace=False).hist(bins=50)"
     ],
     "language": "python",
     "metadata": {},
     "outputs": [
      {
       "metadata": {},
       "output_type": "pyout",
       "prompt_number": 59,
       "text": [
        "<matplotlib.axes._subplots.AxesSubplot at 0x11304c3d0>"
       ]
      },
      {
       "metadata": {},
       "output_type": "display_data",
       "png": "[encoded data removed]",
       "text": [
        "<matplotlib.figure.Figure at 0x10d318e90>"
       ]
      }
     ],
     "prompt_number": 59
    },
    {
     "cell_type": "code",
     "collapsed": false,
     "input": [
      "def fetch_data_mdb(con,cmd):\n",
      "    with con:\n",
      "        cur = con.cursor(mdb.cursors.DictCursor)\n",
      "        cur.execute(cmd)\n",
      "        df = cur.fetchall()\n",
      "    return pd.DataFrame(df)"
     ],
     "language": "python",
     "metadata": {},
     "outputs": [],
     "prompt_number": 60
    },
    {
     "cell_type": "code",
     "collapsed": false,
     "input": [
      "cmd = \"select school_ncesid FROM donorschoose_projects WHERE school_state = 'CA' LIMIT 10\"\n",
      "test = fetch_data_mdb(con,cmd)"
     ],
     "language": "python",
     "metadata": {},
     "outputs": [],
     "prompt_number": 133
    },
    {
     "cell_type": "code",
     "collapsed": false,
     "input": [
      "projects = pd.read_csv('../../data/opendata_projects.csv')#dtype={'school_ncesid': np.int64}, na_values={'school_ncesid': None}"
     ],
     "language": "python",
     "metadata": {},
     "outputs": [],
     "prompt_number": 74
    },
    {
     "cell_type": "code",
     "collapsed": false,
     "input": [
      "projects.loc[(projects.school_ncesid.isnull()),'school_ncesid'] = -1\n",
      "projects_ca = projects[projects.school_state=='CA']\n",
      "projects_ca['school_ncesid'] = projects_ca['school_ncesid'].astype(np.int64).astype(str)\n",
      "projects_ca['dist_ncesid'] = projects_ca['school_ncesid'].apply(lambda x : '0'+x[:6])"
     ],
     "language": "python",
     "metadata": {},
     "outputs": [],
     "prompt_number": 177
    },
    {
     "cell_type": "code",
     "collapsed": false,
     "input": [
      "projects_ca['school_ncesid'].iloc[0][0:-5]"
     ],
     "language": "python",
     "metadata": {},
     "outputs": [
      {
       "metadata": {},
       "output_type": "pyout",
       "prompt_number": 218,
       "text": [
        "'611820'"
       ]
      }
     ],
     "prompt_number": 218
    },
    {
     "cell_type": "code",
     "collapsed": false,
     "input": [
      "# california district id \n",
      "ncesid_ca = projects[projects.school_state=='CA']['dist_ncesid']\n",
      "ncesid_ca.head()"
     ],
     "language": "python",
     "metadata": {},
     "outputs": [
      {
       "metadata": {},
       "output_type": "pyout",
       "prompt_number": 163,
       "text": [
        "5937    0611820\n",
        "5954    0632130\n",
        "5964    0602310\n",
        "5967    0632550\n",
        "5968    0632550\n",
        "Name: dist_ncesid, dtype: object"
       ]
      }
     ],
     "prompt_number": 163
    },
    {
     "cell_type": "code",
     "collapsed": false,
     "input": [
      "projects_merged = pd.merge(budget_ca, projects_ca, left_on='NCESID', right_on='dist_ncesid')\n",
      "print projects_merged.shape\n",
      "projects_merged2 = pd.merge(budget_rev, projects_ca, left_index=True, right_on='dist_ncesid')\n",
      "projects_merged2.shape"
     ],
     "language": "python",
     "metadata": {},
     "outputs": [
      {
       "output_type": "stream",
       "stream": "stdout",
       "text": [
        "(551350, 51)\n"
       ]
      },
      {
       "metadata": {},
       "output_type": "pyout",
       "prompt_number": 206,
       "text": [
        "(138451, 52)"
       ]
      }
     ],
     "prompt_number": 206
    },
    {
     "cell_type": "code",
     "collapsed": false,
     "input": [
      "def isfunded(x):\n",
      "    return float(x[x=='completed'].count())/(x[(x=='completed') | (x=='expired')].count())\n",
      "#budget_ca.shape"
     ],
     "language": "python",
     "metadata": {},
     "outputs": [],
     "prompt_number": 205
    },
    {
     "cell_type": "code",
     "collapsed": false,
     "input": [
      "projects_merged.groupby('funding_status')['TOTALREV'].median().plot(kind='bar')"
     ],
     "language": "python",
     "metadata": {},
     "outputs": [
      {
       "metadata": {},
       "output_type": "pyout",
       "prompt_number": 211,
       "text": [
        "<matplotlib.axes._subplots.AxesSubplot at 0x131ec31d0>"
       ]
      },
      {
       "metadata": {},
       "output_type": "display_data",
       "png": "[encoded data removed]",
       "text": [
        "<matplotlib.figure.Figure at 0x131fa7510>"
       ]
      }
     ],
     "prompt_number": 211
    },
    {
     "cell_type": "code",
     "collapsed": false,
     "input": [
      "projects_merged2.groupby('funding_status')['10_delta'].median().plot(kind='bar')"
     ],
     "language": "python",
     "metadata": {},
     "outputs": [
      {
       "metadata": {},
       "output_type": "pyout",
       "prompt_number": 212,
       "text": [
        "<matplotlib.axes._subplots.AxesSubplot at 0x131fe7110>"
       ]
      },
      {
       "metadata": {},
       "output_type": "display_data",
       "png": "[encoded data removed]",
       "text": [
        "<matplotlib.figure.Figure at 0x131fef410>"
       ]
      }
     ],
     "prompt_number": 212
    },
    {
     "cell_type": "code",
     "collapsed": false,
     "input": [],
     "language": "python",
     "metadata": {},
     "outputs": [],
     "prompt_number": 207
    },
    {
     "cell_type": "code",
     "collapsed": false,
     "input": [],
     "language": "python",
     "metadata": {},
     "outputs": []
    }
   ],
   "metadata": {}
  }
 ]
}