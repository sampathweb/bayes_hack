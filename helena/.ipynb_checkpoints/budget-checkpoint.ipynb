{
 "metadata": {
  "name": "",
  "signature": "sha256:64a408779467e00bce9f869825da49a1f8e9ddf21627f8a3f3b7d8ac9d6e7622"
 },
 "nbformat": 3,
 "nbformat_minor": 0,
 "worksheets": []
}