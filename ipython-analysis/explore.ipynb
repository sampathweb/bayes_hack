{
 "metadata": {
  "name": "",
  "signature": "sha256:41efa3c4c844749c1cfa4bfa5134b118bcec4a85617419afab0e464e5d676974"
 },
 "nbformat": 3,
 "nbformat_minor": 0,
 "worksheets": [
  {
   "cells": [
    {
     "cell_type": "code",
     "collapsed": false,
     "input": [
      "import pandas as pd\n",
      "import numpy as np\n",
      "import matplotlib.pyplot as plt\n",
      "import seaborn as sns"
     ],
     "language": "python",
     "metadata": {},
     "outputs": [],
     "prompt_number": 1
    },
    {
     "cell_type": "code",
     "collapsed": false,
     "input": [
      "# load all the data \n",
      "resources = pd.read_csv('../../data/opendata_resources.csv')\n",
      "print 'resources loaded'\n",
      "giftcards = pd.read_csv('../../data/opendata_giftcards.csv')\n",
      "print 'giftcards loaded'\n",
      "projects = pd.read_csv('../../data/opendata_projects.csv')\n",
      "print 'projects loaded'\n",
      "donations = pd.read_csv('../../data/opendata_donations.csv')\n",
      "print 'donations loaded'\n",
      "res_cat = pd.read_csv('../../data/resource_categories_11.10.14.csv')\n",
      "print 'categories loaded'"
     ],
     "language": "python",
     "metadata": {},
     "outputs": [
      {
       "output_type": "stream",
       "stream": "stdout",
       "text": [
        "resources loaded\n",
        "giftcards loaded"
       ]
      },
      {
       "output_type": "stream",
       "stream": "stdout",
       "text": [
        "\n",
        "projects loaded"
       ]
      },
      {
       "output_type": "stream",
       "stream": "stdout",
       "text": [
        "\n",
        "donations loaded"
       ]
      },
      {
       "output_type": "stream",
       "stream": "stdout",
       "text": [
        "\n",
        "categories loaded"
       ]
      },
      {
       "output_type": "stream",
       "stream": "stdout",
       "text": [
        "\n"
       ]
      }
     ],
     "prompt_number": 2
    },
    {
     "cell_type": "code",
     "collapsed": false,
     "input": [
      "resource_type_counts = resources.project_resource_type.value_counts()\n",
      "print resource_type_counts"
     ],
     "language": "python",
     "metadata": {},
     "outputs": [
      {
       "output_type": "stream",
       "stream": "stdout",
       "text": [
        "Books         1846592\n",
        "Supplies      1587535\n",
        "Technology     600771\n",
        "Other          321910\n",
        "Trips            6967\n",
        "Visitors         1567\n",
        "dtype: int64\n"
       ]
      }
     ],
     "prompt_number": 26
    },
    {
     "cell_type": "code",
     "collapsed": false,
     "input": [
      "for res_typ in list(resource_type_counts.index):\n",
      "    sl = resources.project_resource_type == res_typ\n",
      "    print res_typ, '---------'\n",
      "    print resources.item_name[sl].value_counts().head(n=10)\n",
      "    print '--------'"
     ],
     "language": "python",
     "metadata": {},
     "outputs": [
      {
       "output_type": "stream",
       "stream": "stdout",
       "text": [
        "Books ---------\n",
        "Bullying in Schools                             2216\n",
        "Wonder                                          1282\n",
        "AA306 - Level E Book Bin - Gr. 1 - Library 1    1147\n",
        "AA307 - Level F Book Bin - Gr. 1 - Library 1    1081\n",
        "AA300X - Leveled Books Classroom Library 1      1068\n",
        "The Fault in Our Stars                          1052\n",
        "AA302 - Level A Book Bin - K - Library 1        1037\n",
        "AA308 - Level G Book Bin - Gr. 1 - Library 1    1025\n",
        "Hunger Games (PB)                               1012\n",
        "Divergent                                        884\n",
        "dtype: int64"
       ]
      },
      {
       "output_type": "stream",
       "stream": "stdout",
       "text": [
        "\n",
        "--------\n",
        "Supplies"
       ]
      },
      {
       "output_type": "stream",
       "stream": "stdout",
       "text": [
        " ---------\n",
        "Item Shipping/Handling Charges                               4845\n",
        "DD105 - Black Write & Wipe Markers - Thin-Line - Set of 4    2105\n",
        "JJ689 - Privacy Partition - Set of 10                        1796\n",
        "Standard Shipping                                            1752\n",
        "JJ518 - Classroom Magnetic Letters Kit                       1642\n",
        "JJ119X - At-Your-Seat Storage Sack - Set of 10               1570\n",
        "KC70 - Write & Wipe Lapboard - Set of 10                     1537\n",
        "RR423 - Write & Wipe Lapboard Erasers - Set of 10            1518\n",
        "DE190 - Reusable Write & Wipe Pocket - Set of 10             1342\n",
        "GG963X - Help-Yourself Book Boxes - Set of 6                 1042\n",
        "dtype: int64"
       ]
      },
      {
       "output_type": "stream",
       "stream": "stdout",
       "text": [
        "\n",
        "--------\n",
        "Technology"
       ]
      },
      {
       "output_type": "stream",
       "stream": "stdout",
       "text": [
        " ---------\n",
        "Apple&#174; iPad&#174; mini Wi-Fi - tablet - iOS 6 - 16 GB - 7.9    12197\n",
        "Apple&#174; iPad&#174; 2 Wi-Fi - tablet - iOS 5 - 16 GB - 9.7'     4660\n",
        "Apple&#174; iPad&#174; with Retina display Wi-Fi - 4th generation - tablet - iOS 6 - 16 GB - 9.7'     2467\n",
        "Apple iPad Mini MD528LL/A (16GB, Wi-Fi, Black & Slate)           1902\n",
        "MakerBot Academy - 3D Printing Bundle                            1862\n",
        "Apple&#174; iPad&#174; with Retina display Wi-Fi - 4th generation     1826\n",
        "Apple iPad 2 Wi-Fi - tablet - iOS 5 - 16 GB - 9.7'               1750\n",
        "Apple iPod touch digital player - Apple iOS 5                    1724\n",
        "Epson DC-06 Document Camera - document camera                    1603\n",
        "EW208 - Wireless Classroom Headphones Set                        1602\n",
        "dtype: int64"
       ]
      },
      {
       "output_type": "stream",
       "stream": "stdout",
       "text": [
        "\n",
        "--------\n",
        "Other"
       ]
      },
      {
       "output_type": "stream",
       "stream": "stdout",
       "text": [
        " ---------\n",
        "LA952 - A Place for Everyone Classroom Carpet for 30            1251\n",
        "Edition 3 - 4 with Around the World (Grades 3 and 4)  TIME For Kids is a weekly classroom newsmagazine that motivates kids to read. Issues cover a wide range of real-world topics and themes kids love to learn about   and it s the best nonfiction text you ll find! Edition 3 - 4 builds non-fiction literacy skills and helps students better understand their world.  In addition to receiving Edition 3 - 4, subscribers will receive TFK Around the World.     647\n",
        "DD105 - Black Write & Wipe Markers - Thin-Line - Set of 4        541\n",
        "CK30BU - Big Beanbag Seat - Blue                                 491\n",
        "Edition 5 - 6 with Around the World  (Grades 5 and 6)  TIME For Kids is a weekly classroom newsmagazine that motivates kids to read. Issues cover a wide range of real-world topics and themes kids love to learn about   and it s the best nonfiction text you ll find! Edition 5 - 6 builds non-fiction literacy skills and helps students become informed and active citizens.  In addition to receiving Edition 5 - 6, subscribers will receive TFK Around the World.     445\n",
        "TT483 - A Place for Everyone Classroom Carpet for 20             437\n",
        "Item Shipping/Handling Charges                                   419\n",
        "CK20BU - Little Beanbag Seat - Blue                              372\n",
        "CK30GR - Big Beanbag Seat - Green                                368\n",
        "CK30RD - Big Beanbag Seat - Red                                  364\n",
        "dtype: int64"
       ]
      },
      {
       "output_type": "stream",
       "stream": "stdout",
       "text": [
        "\n",
        "--------\n",
        "Trips"
       ]
      },
      {
       "output_type": "stream",
       "stream": "stdout",
       "text": [
        " ---------\n",
        "Bullying in Schools                                             6\n",
        "CAMERA,1TIMEUSE,QKSNP,27                                        2\n",
        "Cozy 50 X 60 Fleece Blanket (Assorted) Throw                    2\n",
        "CONSTRUCTN PAPR 130G, ASSORTED 9X12 50PK                        2\n",
        "Gardening Hand Tools Set                                        2\n",
        "MODELING COMPOUND, 2 LB BUCKET -- Crayola  Model Magic; White    2\n",
        "KODAK EASY SHARE C310  BUNDLE DIGITAL PHOTO SOLUTION -- Kodak EasyShare C310 Zoom Digital Camera and EasyShare Printer Dock Series 3 Bundle    2\n",
        "RR724 - Lakeshore Magnetic Fishing Set                          2\n",
        "BOUND SKETCHBOOK 81/2X11                                        2\n",
        "National(R) Brand Composition Book, 10 x 7 7/8, College Ruled, 80 Pages (40 Sheets)    2\n",
        "dtype: int64\n",
        "--------\n",
        "Visitors"
       ]
      },
      {
       "output_type": "stream",
       "stream": "stdout",
       "text": [
        " ---------\n",
        "Apple&#174; iPad&#174; with Retina display Wi-Fi - 4th generation    3\n",
        "Blades                                                          2\n",
        "Tarantulas                                                      2\n",
        "The Truth About Sparrows                                        1\n",
        "PAINT ACRYLIC WARM RED CHROMACRYL STUDENT HALF GALLON           1\n",
        "Song of the Water Boatman and Other Pond Poems Joyce Sidman, Beckie Prange (Illustrator)    1\n",
        "Point Blank (Alex Rider Series #2) Anthony Horowitz             1\n",
        "I Love Animals Board Book                                       1\n",
        "Virco Manufacturing  264500 IQ Series Stack Chairs 15 1/2\" Seat Height    1\n",
        "Gankoqui Double Bell (Small)                                    1\n",
        "dtype: int64\n",
        "--------\n"
       ]
      }
     ],
     "prompt_number": 33
    },
    {
     "cell_type": "code",
     "collapsed": false,
     "input": [
      "projects.ix[0]"
     ],
     "language": "python",
     "metadata": {},
     "outputs": [
      {
       "metadata": {},
       "output_type": "pyout",
       "prompt_number": 34,
       "text": [
        "_projectid                                \"e565fb42185c6e9f22806ad9d5ac8a77\"\n",
        "_teacher_acctid                           \"2e17c8c91cb58132d8103a9aa8797e80\"\n",
        "_schoolid                                 \"45e7ddbdd7023f1eb65a6cc028d7414f\"\n",
        "school_ncesid                                                    3.60009e+11\n",
        "school_latitude                                                     40.84169\n",
        "school_longitude                                                   -73.87546\n",
        "school_city                                                            Bronx\n",
        "school_state                                                              NY\n",
        "school_zip                                                             10460\n",
        "school_metro                                                           urban\n",
        "school_district                                     New York City Dept Of Ed\n",
        "school_county                                                          Bronx\n",
        "school_charter                                                             f\n",
        "school_magnet                                                              f\n",
        "school_year_round                                                          f\n",
        "school_nlns                                                                f\n",
        "school_kipp                                                                f\n",
        "school_charter_ready_promise                                               f\n",
        "teacher_prefix                                                           Mr.\n",
        "teacher_teach_for_america                                                  f\n",
        "teacher_ny_teaching_fellow                                                 f\n",
        "primary_focus_subject                                               Literacy\n",
        "primary_focus_area                                       Literacy & Language\n",
        "secondary_focus_subject                                                  NaN\n",
        "secondary_focus_area                                                     NaN\n",
        "resource_type                                                          Books\n",
        "poverty_level                                                highest poverty\n",
        "grade_level                                                      Grades 9-12\n",
        "vendor_shipping_charges                                                  NaN\n",
        "sales_tax                                                                NaN\n",
        "payment_processing_charges                                               NaN\n",
        "fulfillment_labor_materials                                              NaN\n",
        "total_price_excluding_optional_support                                280.02\n",
        "total_price_including_optional_support                                341.49\n",
        "students_reached                                                           0\n",
        "total_donations                                                          308\n",
        "num_donors                                                                 1\n",
        "eligible_double_your_impact_match                                          f\n",
        "eligible_almost_home_match                                                 f\n",
        "funding_status                                                     completed\n",
        "date_posted                                                       2007-03-08\n",
        "date_completed                                                    2007-03-08\n",
        "date_thank_you_packet_mailed                                      2007-03-08\n",
        "date_expiration                                                   2003-12-31\n",
        "Name: 0, dtype: object"
       ]
      }
     ],
     "prompt_number": 34
    },
    {
     "cell_type": "code",
     "collapsed": false,
     "input": [
      "projects.total_price_including_optional_support.describe()"
     ],
     "language": "python",
     "metadata": {},
     "outputs": [
      {
       "metadata": {},
       "output_type": "pyout",
       "prompt_number": 45,
       "text": [
        "count      771929.000000\n",
        "mean          676.180708\n",
        "std         14344.356543\n",
        "min             0.000000\n",
        "25%           323.650000\n",
        "50%           496.000000\n",
        "75%           733.530000\n",
        "max      12500020.730000\n",
        "Name: total_price_including_optional_support, dtype: float64"
       ]
      }
     ],
     "prompt_number": 45
    },
    {
     "cell_type": "code",
     "collapsed": false,
     "input": [
      "date2completion = pd.to_datetime(projects['date_completed']) - pd.to_datetime(projects['date_posted'])\n",
      "print projects['date_posted'].count()\n",
      "print projects['date_completed'].count()"
     ],
     "language": "python",
     "metadata": {},
     "outputs": [
      {
       "output_type": "stream",
       "stream": "stdout",
       "text": [
        "771929\n",
        "518711\n"
       ]
      }
     ],
     "prompt_number": 172
    },
    {
     "cell_type": "code",
     "collapsed": false,
     "input": [
      "# merge projects and resources \n",
      "projects_resources = pd.merge(projects, resources, on='_projectid')"
     ],
     "language": "python",
     "metadata": {},
     "outputs": [],
     "prompt_number": 178
    },
    {
     "cell_type": "code",
     "collapsed": false,
     "input": [
      "projects_resources.shape"
     ],
     "language": "python",
     "metadata": {},
     "outputs": [
      {
       "metadata": {},
       "output_type": "pyout",
       "prompt_number": 187,
       "text": [
        "(4365548, 52)"
       ]
      }
     ],
     "prompt_number": 187
    },
    {
     "cell_type": "code",
     "collapsed": false,
     "input": [
      "import pymysql as mdb\n",
      "con = mdb.connect('bayesimpact.soumet.com', 'root', 'bayeshack', 'bayes')"
     ],
     "language": "python",
     "metadata": {},
     "outputs": [],
     "prompt_number": 216
    },
    {
     "cell_type": "code",
     "collapsed": false,
     "input": [
      "projects_resources2 = projects_resources.copy()"
     ],
     "language": "python",
     "metadata": {},
     "outputs": [],
     "prompt_number": 200
    },
    {
     "cell_type": "code",
     "collapsed": false,
     "input": [
      "# replace pandas nan's with nulls so that they can be written into sql \n",
      "for col in projects_resources2.columns:\n",
      "    #projects_resources2[col][pd.isnull(projects_resources2[col])] = None\n",
      "    projects_resources2.loc[(pd.isnull(projects_resources2[col])),col] = None"
     ],
     "language": "python",
     "metadata": {},
     "outputs": [],
     "prompt_number": 217
    },
    {
     "cell_type": "code",
     "collapsed": false,
     "input": [
      "projects_resources2.to_sql(name='project_resources',con=con,flavor='mysql',if_exists='replace',chunksize=50000)"
     ],
     "language": "python",
     "metadata": {},
     "outputs": [],
     "prompt_number": 220
    },
    {
     "cell_type": "heading",
     "level": 4,
     "metadata": {},
     "source": [
      "gift cards"
     ]
    },
    {
     "cell_type": "code",
     "collapsed": false,
     "input": [
      "giftcards['date_purchased'] = pd.to_datetime(giftcards['date_purchased'])\n",
      "giftcards['date_redeemed'] = pd.to_datetime(giftcards['date_redeemed'])\n",
      "giftcards.ix[0]"
     ],
     "language": "python",
     "metadata": {},
     "outputs": [
      {
       "metadata": {},
       "output_type": "pyout",
       "prompt_number": 89,
       "text": [
        "_giftcardid                                 \"aa25a74a3cc0d0f25b8a9b71320e4125\"\n",
        "gift_code_amount                                                             1\n",
        "dollar_amount                                                         under_10\n",
        "_buyer_acctid                               \"a69307dacaddf0fce6ef0df36d20411e\"\n",
        "buyer_city                                                         Santa Clara\n",
        "buyer_state                                                                 CA\n",
        "buyer_zip                                                                95054\n",
        "date_purchased                                             2013-02-28 00:00:00\n",
        "_buyer_cartid                                                              NaN\n",
        "_recipient_acctid                           \"83f9db1f53cf6b0d991a27b0885ee57b\"\n",
        "recipient_city                                                             NaN\n",
        "recipient_state                                                            NaN\n",
        "recipient_zip                                                              NaN\n",
        "redeemed                                                                     t\n",
        "date_redeemed                                                              NaN\n",
        "_redeemed_cartid                            \"8d4d1579416c7f0ca486c67d36ba757d\"\n",
        "payment_method                                                no_cash_received\n",
        "payment_included_acct_credit                                                 f\n",
        "payment_included_campaign_gift_card                                          t\n",
        "payment_included_web_purchased_gift_card                                     f\n",
        "payment_was_promo_matched                                                    f\n",
        "Name: 0, dtype: object"
       ]
      }
     ],
     "prompt_number": 89
    },
    {
     "cell_type": "code",
     "collapsed": false,
     "input": [
      "print giftcards.payment_method.value_counts()\n",
      "giftcards['dollar_amount'].value_counts()"
     ],
     "language": "python",
     "metadata": {},
     "outputs": [
      {
       "output_type": "stream",
       "stream": "stdout",
       "text": [
        "no_cash_received    328844\n",
        "creditcard          135793\n",
        "paypal               23877\n",
        "check                15816\n",
        "amazon               11527\n",
        "promo_code_match         9\n",
        "dtype: int64\n"
       ]
      },
      {
       "metadata": {},
       "output_type": "pyout",
       "prompt_number": 157,
       "text": [
        "10_to_100     307792\n",
        "under_10      121921\n",
        "100_and_up     86153\n",
        "dtype: int64"
       ]
      }
     ],
     "prompt_number": 157
    },
    {
     "cell_type": "code",
     "collapsed": false,
     "input": [
      "giftcards.payment_was_promo_matched.value_counts()"
     ],
     "language": "python",
     "metadata": {},
     "outputs": [
      {
       "metadata": {},
       "output_type": "pyout",
       "prompt_number": 148,
       "text": [
        "f    484601\n",
        "t     31265\n",
        "dtype: int64"
       ]
      }
     ],
     "prompt_number": 148
    },
    {
     "cell_type": "code",
     "collapsed": false,
     "input": [
      "for amt in giftcards['dollar_amount'].value_counts().index:\n",
      "    temp = (giftcards.dollar_amount==amt)# & (giftcards.buyer_state=='IL')\n",
      "    temp.index=giftcards.date_purchased\n",
      "    temp_resampled = temp.resample('1m',how=np.sum)['2009':]\n",
      "    #temp_resampled.plot()\n",
      "    plt.plot(temp_resampled.index,temp_resampled,label=amt)\n",
      "plt.legend(loc='upper left')"
     ],
     "language": "python",
     "metadata": {},
     "outputs": [
      {
       "metadata": {},
       "output_type": "pyout",
       "prompt_number": 154,
       "text": [
        "<matplotlib.legend.Legend at 0x15cbfc0d0>"
       ]
      },
      {
       "metadata": {},
       "output_type": "display_data",
       "png": "[encoded data removed]",
       "text": [
        "<matplotlib.figure.Figure at 0x15ccf63d0>"
       ]
      }
     ],
     "prompt_number": 154
    },
    {
     "cell_type": "code",
     "collapsed": false,
     "input": [
      "temp = pd.Series(np.ones(len(giftcards._giftcardid)),index=giftcards.date_purchased)\n",
      "temp.resample('1m',how=np.sum)['2009':].plot()"
     ],
     "language": "python",
     "metadata": {},
     "outputs": [
      {
       "metadata": {},
       "output_type": "display_data",
       "png": "[encoded data removed]",
       "text": [
        "<matplotlib.figure.Figure at 0x1a3f73890>"
       ]
      }
     ],
     "prompt_number": 147
    },
    {
     "cell_type": "code",
     "collapsed": false,
     "input": [
      "# payment that was promo_matched \n",
      "temp = giftcards.payment_was_promo_matched=='t'\n",
      "temp.index=giftcards.date_purchased\n",
      "temp.resample('1m',how=np.mean)['2009':].plot()"
     ],
     "language": "python",
     "metadata": {},
     "outputs": [
      {
       "metadata": {},
       "output_type": "pyout",
       "prompt_number": 155,
       "text": [
        "<matplotlib.axes._subplots.AxesSubplot at 0x15cec2bd0>"
       ]
      },
      {
       "metadata": {},
       "output_type": "display_data",
       "png": "[encoded data removed]",
       "text": [
        "<matplotlib.figure.Figure at 0x15ced6450>"
       ]
      }
     ],
     "prompt_number": 155
    },
    {
     "cell_type": "heading",
     "level": 4,
     "metadata": {},
     "source": [
      "donations"
     ]
    },
    {
     "cell_type": "code",
     "collapsed": false,
     "input": [
      "donations.ix[0]"
     ],
     "language": "python",
     "metadata": {},
     "outputs": [
      {
       "metadata": {},
       "output_type": "pyout",
       "prompt_number": 80,
       "text": [
        "_donationid                                                \"e5839a8caf71bc61e3f8770de0a1c3fd\"\n",
        "_projectid                                                 \"275c6683624bd7f7d1f2c0336de6f2d2\"\n",
        "_donor_acctid                                              \"1a81ded85c3556b9804078ed15015c90\"\n",
        "_cartid                                                    \"1264db91feff5c67ea2e3625d7149429\"\n",
        "donor_city                                                                                NaN\n",
        "donor_state                                                                               NaN\n",
        "donor_zip                                                                                 NaN\n",
        "is_teacher_acct                                                                             f\n",
        "donation_timestamp                                                    2010-04-16 22:23:38.803\n",
        "donation_to_project                                                                       4.1\n",
        "donation_optional_support                                                                 0.9\n",
        "donation_total                                                                              5\n",
        "dollar_amount                                                                        under_10\n",
        "donation_included_optional_support                                                          t\n",
        "payment_method                                                               no_cash_received\n",
        "payment_included_acct_credit                                                                f\n",
        "payment_included_campaign_gift_card                                                         t\n",
        "payment_included_web_purchased_gift_card                                                    f\n",
        "payment_was_promo_matched                                                                   f\n",
        "via_giving_page                                                                             f\n",
        "for_honoree                                                                                 f\n",
        "donation_message                            \"I gave to this project because I have experie...\n",
        "Name: 0, dtype: object"
       ]
      }
     ],
     "prompt_number": 80
    },
    {
     "cell_type": "code",
     "collapsed": false,
     "input": [
      "donations.payment_method.value_counts()"
     ],
     "language": "python",
     "metadata": {},
     "outputs": [
      {
       "metadata": {},
       "output_type": "pyout",
       "prompt_number": 81,
       "text": [
        "no_cash_received            1686791\n",
        "creditcard                  1181337\n",
        "promo_code_match             371258\n",
        "paypal                       364998\n",
        "amazon                       137773\n",
        "double_your_impact_match     128487\n",
        "check                         31408\n",
        "almost_home_match             22163\n",
        "dtype: int64"
       ]
      }
     ],
     "prompt_number": 81
    },
    {
     "cell_type": "code",
     "collapsed": false,
     "input": [
      "donations_by_paymentmethods = donations.groupby('payment_method')['dollar_amount'].value_counts()\n",
      "donations_by_paymentmethods.unstack(level=0).plot(kind='bar')"
     ],
     "language": "python",
     "metadata": {},
     "outputs": [
      {
       "metadata": {},
       "output_type": "pyout",
       "prompt_number": 165,
       "text": [
        "<matplotlib.axes._subplots.AxesSubplot at 0x15a048490>"
       ]
      },
      {
       "metadata": {},
       "output_type": "display_data",
       "png": "[encoded data removed]",
       "text": [
        "<matplotlib.figure.Figure at 0x15a029850>"
       ]
      }
     ],
     "prompt_number": 165
    },
    {
     "cell_type": "code",
     "collapsed": false,
     "input": [],
     "language": "python",
     "metadata": {},
     "outputs": []
    }
   ],
   "metadata": {}
  }
 ]
}